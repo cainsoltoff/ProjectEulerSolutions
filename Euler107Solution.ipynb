{
 "cells": [
  {
   "cell_type": "code",
   "execution_count": 227,
   "metadata": {
    "collapsed": true
   },
   "outputs": [],
   "source": [
    "import pandas as pd\n",
    "import numpy as np"
   ]
  },
  {
   "cell_type": "markdown",
   "metadata": {},
   "source": [
    "### Read in the data adjacency matrix..."
   ]
  },
  {
   "cell_type": "code",
   "execution_count": 260,
   "metadata": {},
   "outputs": [],
   "source": [
    "network = pd.read_csv(\"https://projecteuler.net/project/resources/p107_network.txt\", header = None)\n",
    "network = network.replace(to_replace=\"-\", value=0)\n",
    "network = network.values.astype(np.int32)"
   ]
  },
  {
   "cell_type": "markdown",
   "metadata": {},
   "source": [
    "### Implement and Apply Kruskal's Algorithm for Minimum Spanning Tree"
   ]
  },
  {
   "cell_type": "code",
   "execution_count": 261,
   "metadata": {},
   "outputs": [],
   "source": [
    "from collections import namedtuple\n",
    "Edge = namedtuple(\"Edge\", [\"Cost\", \"From\", \"To\"])\n",
    "\n",
    "def minSpanCostUsingKruskalsAlgorithm(adjacencyMatrix):\n",
    "    \"\"\"\n",
    "    Pass an adjacency matrix. Returns the minimum spanning tree cost or -1 if a min spanning tree does not exist.  \n",
    "    \"\"\"\n",
    "    vertexList = np.arange(network.shape[0])\n",
    "    \n",
    "    listOfEdges = [] #this will hold all the unique edges in the network\n",
    "\n",
    "    for i in range(len(vertexList)):\n",
    "        for j in range(i):\n",
    "            if network[i, j] != 0:\n",
    "                e = Edge(network[i, j], i, j)\n",
    "                listOfEdges.append(e)\n",
    "\n",
    "    listOfEdges.sort(reverse=True) #sort so we can pop the lowest cost edges first\n",
    "    \n",
    "            \n",
    "    dictOfTrees = {} # this will be a dict that will be an updated set of verticies that each vertex is connected too as we select edges\n",
    "\n",
    "    for i in range(len(vertexList)): # initially each vertex is just in a tree by itself\n",
    "        dictOfTrees[i] = set()\n",
    "        dictOfTrees[i].add(i)\n",
    "        \n",
    "    cumNetworkCost = 0 #accumulator for the min spanning tree cost\n",
    "    \n",
    "    while max([len(f) for f in dictOfTrees.values()]) < len(vertexList) and listOfEdges: #keep running until we have a spanning tree for all vertices\n",
    "        e = listOfEdges.pop()\n",
    "\n",
    "        fromForest = dictOfTrees[e.From]\n",
    "        toForest = dictOfTrees[e.To]\n",
    "        if (e.To not in fromForest) or (e.From not in toForest):\n",
    "            fromForest.update(toForest)\n",
    "            for item in list(fromForest):\n",
    "                dictOfTrees[item] = fromForest\n",
    "            cumNetworkCost += e.Cost\n",
    "    \n",
    "    if max([len(f) for f in dictOfTrees.values()]) < len(vertexList):  #if we couldn't create a spanning tree, return -1\n",
    "        cumNetworkCost = -1\n",
    "        \n",
    "    return cumNetworkCost"
   ]
  },
  {
   "cell_type": "markdown",
   "metadata": {},
   "source": [
    "### Get the answer..."
   ]
  },
  {
   "cell_type": "code",
   "execution_count": 262,
   "metadata": {},
   "outputs": [
    {
     "name": "stdout",
     "output_type": "stream",
     "text": [
      "Cost Savings:  259679\n"
     ]
    }
   ],
   "source": [
    "originalCost = sum([network[i, j] for i in range(network.shape[0]) for j in range(network.shape[0]) if i < j])\n",
    "spanTreeCost = minSpanCostUsingKruskalsAlgorithm(network)\n",
    "\n",
    "if spanTreeCost == -1:\n",
    "    print(\"No Minimum Spanning Tree!\")\n",
    "else:\n",
    "    print(\"Cost Savings: \", originalCost - spanTreeCost)"
   ]
  }
 ],
 "metadata": {
  "kernelspec": {
   "display_name": "Python 3",
   "language": "python",
   "name": "python3"
  },
  "language_info": {
   "codemirror_mode": {
    "name": "ipython",
    "version": 3
   },
   "file_extension": ".py",
   "mimetype": "text/x-python",
   "name": "python",
   "nbconvert_exporter": "python",
   "pygments_lexer": "ipython3",
   "version": "3.6.3"
  }
 },
 "nbformat": 4,
 "nbformat_minor": 2
}
